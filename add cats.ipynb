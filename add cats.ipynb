{
 "cells": [
  {
   "cell_type": "code",
   "execution_count": 1,
   "metadata": {
    "collapsed": true
   },
   "outputs": [],
   "source": [
    "import pandas as pd\n",
    "import numpy as np\n",
    "from clustergrammer import Network\n",
    "net = Network()"
   ]
  },
  {
   "cell_type": "code",
   "execution_count": 2,
   "metadata": {
    "collapsed": false
   },
   "outputs": [],
   "source": [
    "net.load_file('txt/rc_two_cats.txt')"
   ]
  },
  {
   "cell_type": "code",
   "execution_count": 4,
   "metadata": {
    "collapsed": true
   },
   "outputs": [],
   "source": [
    "from clustergrammer_widget import clustergrammer_widget"
   ]
  },
  {
   "cell_type": "code",
   "execution_count": 10,
   "metadata": {
    "collapsed": true
   },
   "outputs": [],
   "source": [
    "df = net.export_df()"
   ]
  },
  {
   "cell_type": "code",
   "execution_count": 12,
   "metadata": {
    "collapsed": false
   },
   "outputs": [],
   "source": [
    "cols = df.columns.tolist()"
   ]
  },
  {
   "cell_type": "code",
   "execution_count": 17,
   "metadata": {
    "collapsed": false
   },
   "outputs": [],
   "source": [
    "new_cols = []\n",
    "for inst_col in cols:\n",
    "    inst_col = inst_col + ('same-cat',)\n",
    "    new_cols.append(inst_col)"
   ]
  },
  {
   "cell_type": "code",
   "execution_count": 18,
   "metadata": {
    "collapsed": false
   },
   "outputs": [
    {
     "data": {
      "text/plain": [
       "[('Cell Line: H1650', 'Category: two', 'Gender: Male', 'same-cat'),\n",
       " ('Cell Line: H23', 'Category: two', 'Gender: Male', 'same-cat'),\n",
       " ('Cell Line: CAL-12T', 'Category: two', 'Gender: Male', 'same-cat'),\n",
       " ('Cell Line: H358', 'Category: one', 'Gender: Male', 'same-cat'),\n",
       " ('Cell Line: H1975', 'Category: two', 'Gender: Female', 'same-cat'),\n",
       " ('Cell Line: HCC15', 'Category: two', 'Gender: Male', 'same-cat'),\n",
       " ('Cell Line: H1355', 'Category: three', 'Gender: Male', 'same-cat'),\n",
       " ('Cell Line: HCC827', 'Category: one', 'Gender: Female', 'same-cat'),\n",
       " ('Cell Line: H2405', 'Category: five', 'Gender: Male', 'same-cat'),\n",
       " ('Cell Line: HCC78', 'Category: five', 'Gender: Male', 'same-cat'),\n",
       " ('Cell Line: H1666', 'Category: four', 'Gender: Female', 'same-cat'),\n",
       " ('Cell Line: H661', 'Category: five', 'Gender: Male', 'same-cat'),\n",
       " ('Cell Line: H838', 'Category: five', 'Gender: Male', 'same-cat'),\n",
       " ('Cell Line: H1703', 'Category: five', 'Gender: Male', 'same-cat'),\n",
       " ('Cell Line: CALU-3', 'Category: four', 'Gender: Male', 'same-cat'),\n",
       " ('Cell Line: H2342', 'Category: four', 'Gender: Female', 'same-cat'),\n",
       " ('Cell Line: H2228', 'Category: one', 'Gender: Female', 'same-cat'),\n",
       " ('Cell Line: H1299', 'Category: three', 'Gender: Male', 'same-cat'),\n",
       " ('Cell Line: H1792', 'Category: three', 'Gender: Male', 'same-cat'),\n",
       " ('Cell Line: H460', 'Category: three', 'Gender: Male', 'same-cat'),\n",
       " ('Cell Line: H2106', 'Category: four', 'Gender: Male', 'same-cat'),\n",
       " ('Cell Line: H441', 'Category: one', 'Gender: Male', 'same-cat'),\n",
       " ('Cell Line: H1944', 'Category: three', 'Gender: Female', 'same-cat'),\n",
       " ('Cell Line: H1437', 'Category: four', 'Gender: Male', 'same-cat'),\n",
       " ('Cell Line: H1734', 'Category: one', 'Gender: Female', 'same-cat'),\n",
       " ('Cell Line: LOU-NH91', 'Category: five', 'Gender: Female', 'same-cat'),\n",
       " ('Cell Line: HCC44', 'Category: four', 'Gender: Female', 'same-cat'),\n",
       " ('Cell Line: A549', 'Category: four', 'Gender: Male', 'same-cat'),\n",
       " ('Cell Line: H1781', 'Category: one', 'Gender: Female', 'same-cat')]"
      ]
     },
     "execution_count": 18,
     "metadata": {},
     "output_type": "execute_result"
    }
   ],
   "source": [
    "new_cols"
   ]
  },
  {
   "cell_type": "code",
   "execution_count": 19,
   "metadata": {
    "collapsed": true
   },
   "outputs": [],
   "source": [
    "df.columns = new_cols"
   ]
  },
  {
   "cell_type": "code",
   "execution_count": 20,
   "metadata": {
    "collapsed": true
   },
   "outputs": [],
   "source": [
    "net.load_df(df)"
   ]
  },
  {
   "cell_type": "code",
   "execution_count": 21,
   "metadata": {
    "collapsed": true
   },
   "outputs": [],
   "source": [
    "net.make_clust()"
   ]
  },
  {
   "cell_type": "code",
   "execution_count": 22,
   "metadata": {
    "collapsed": false
   },
   "outputs": [
    {
     "data": {
      "application/vnd.jupyter.widget-view+json": {
       "model_id": "21c4505c9c5f4c8b89b805949479e8a2"
      }
     },
     "metadata": {},
     "output_type": "display_data"
    }
   ],
   "source": [
    "clustergrammer_widget(network=net.widget())"
   ]
  },
  {
   "cell_type": "code",
   "execution_count": null,
   "metadata": {
    "collapsed": true
   },
   "outputs": [],
   "source": []
  }
 ],
 "metadata": {
  "kernelspec": {
   "display_name": "Python 2",
   "language": "python",
   "name": "python2"
  },
  "language_info": {
   "codemirror_mode": {
    "name": "ipython",
    "version": 2
   },
   "file_extension": ".py",
   "mimetype": "text/x-python",
   "name": "python",
   "nbconvert_exporter": "python",
   "pygments_lexer": "ipython2",
   "version": "2.7.12"
  }
 },
 "nbformat": 4,
 "nbformat_minor": 2
}
