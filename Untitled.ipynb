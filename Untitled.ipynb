{
 "cells": [
  {
   "cell_type": "code",
   "execution_count": 1,
   "metadata": {
    "collapsed": false,
    "deletable": true,
    "editable": true
   },
   "outputs": [],
   "source": [
    "from clustergrammer import Network\n",
    "net = Network()"
   ]
  },
  {
   "cell_type": "code",
   "execution_count": 2,
   "metadata": {
    "collapsed": false,
    "deletable": true,
    "editable": true
   },
   "outputs": [
    {
     "name": "stdout",
     "output_type": "stream",
     "text": [
      "define_cat_colors: True\n",
      "cat_number: 0\n",
      "#393b79\n",
      "cat_number: 1\n",
      "#aec7e8\n",
      "cat_number: 2\n",
      "#ff7f0e\n",
      "cat_number: 3\n",
      "#ffbb78\n",
      "cat_number: 4\n",
      "#98df8a\n",
      "cat_number: 5\n",
      "#bcbd22\n",
      "cat_number: 6\n",
      "#404040\n",
      "cat_number: 7\n",
      "#ff9896\n",
      "cat_number: 8\n",
      "#c5b0d5\n"
     ]
    }
   ],
   "source": [
    "net.load_file('txt/rc_two_cats.txt')"
   ]
  },
  {
   "cell_type": "code",
   "execution_count": 3,
   "metadata": {
    "collapsed": false
   },
   "outputs": [
    {
     "data": {
      "text/plain": [
       "{'col': {'cat-0': {'Category: five': '#98df8a',\n",
       "   'Category: four': '#bcbd22',\n",
       "   'Category: one': '#404040',\n",
       "   'Category: three': '#ff9896',\n",
       "   'Category: two': '#c5b0d5'},\n",
       "  'cat-1': {'Gender: Female': '#ff7f0e', 'Gender: Male': '#ffbb78'}},\n",
       " 'row': {'cat-0': {'Gene Type: Interesting': '#393b79',\n",
       "   'Gene Type: Not Interesting': '#aec7e8'}}}"
      ]
     },
     "execution_count": 3,
     "metadata": {},
     "output_type": "execute_result"
    }
   ],
   "source": [
    "net.viz['cat_colors']"
   ]
  },
  {
   "cell_type": "code",
   "execution_count": null,
   "metadata": {
    "collapsed": true
   },
   "outputs": [],
   "source": []
  },
  {
   "cell_type": "code",
   "execution_count": null,
   "metadata": {
    "collapsed": true
   },
   "outputs": [],
   "source": []
  },
  {
   "cell_type": "code",
   "execution_count": 3,
   "metadata": {
    "collapsed": true,
    "deletable": true,
    "editable": true
   },
   "outputs": [],
   "source": [
    "df = net.export_df()"
   ]
  },
  {
   "cell_type": "code",
   "execution_count": 4,
   "metadata": {
    "collapsed": false,
    "deletable": true,
    "editable": true
   },
   "outputs": [
    {
     "name": "stdout",
     "output_type": "stream",
     "text": [
      "define_cat_colors: True\n",
      "running define cat colors\n",
      "['cat_colors', 'row_nodes', 'col_nodes', 'links', 'mat']\n"
     ]
    }
   ],
   "source": [
    "net.load_df(df)"
   ]
  },
  {
   "cell_type": "code",
   "execution_count": 3,
   "metadata": {
    "collapsed": false,
    "deletable": true,
    "editable": true
   },
   "outputs": [
    {
     "data": {
      "text/plain": [
       "['cat_colors', 'row_nodes', 'col_nodes', 'links', 'mat']"
      ]
     },
     "execution_count": 3,
     "metadata": {},
     "output_type": "execute_result"
    }
   ],
   "source": [
    "net.viz.keys()d"
   ]
  },
  {
   "cell_type": "code",
   "execution_count": null,
   "metadata": {
    "collapsed": true,
    "deletable": true,
    "editable": true
   },
   "outputs": [],
   "source": []
  },
  {
   "cell_type": "code",
   "execution_count": 5,
   "metadata": {
    "collapsed": false,
    "deletable": true,
    "editable": true
   },
   "outputs": [
    {
     "name": "stdout",
     "output_type": "stream",
     "text": [
      "define_cat_colors: False\n",
      "define_cat_colors: False\n",
      "define_cat_colors: False\n",
      "define_cat_colors: False\n",
      "define_cat_colors: False\n",
      "define_cat_colors: False\n",
      "define_cat_colors: False\n"
     ]
    }
   ],
   "source": [
    "net.make_clust()"
   ]
  },
  {
   "cell_type": "code",
   "execution_count": 6,
   "metadata": {
    "collapsed": false,
    "deletable": true,
    "editable": true
   },
   "outputs": [
    {
     "data": {
      "text/plain": [
       "['views', 'row_nodes', 'col_nodes', 'links', 'mat']"
      ]
     },
     "execution_count": 6,
     "metadata": {},
     "output_type": "execute_result"
    }
   ],
   "source": [
    "net.viz.keys()"
   ]
  },
  {
   "cell_type": "code",
   "execution_count": 7,
   "metadata": {
    "collapsed": false,
    "deletable": true,
    "editable": true
   },
   "outputs": [
    {
     "data": {
      "text/plain": [
       "['info',\n",
       " 'full_names',\n",
       " 'clust',\n",
       " 'cat_0_index',\n",
       " 'value',\n",
       " 'cat',\n",
       " 'rank',\n",
       " 'group',\n",
       " 'dict_cat_0',\n",
       " 'cat-0',\n",
       " 'rankvar',\n",
       " 'ini']"
      ]
     },
     "execution_count": 7,
     "metadata": {},
     "output_type": "execute_result"
    }
   ],
   "source": [
    "net.dat['node_info']['row'].keys()"
   ]
  },
  {
   "cell_type": "code",
   "execution_count": 8,
   "metadata": {
    "collapsed": false,
    "deletable": true,
    "editable": true
   },
   "outputs": [
    {
     "data": {
      "text/plain": [
       "['Gene Type: Interesting', 'Gene Type: Not Interesting']"
      ]
     },
     "execution_count": 8,
     "metadata": {},
     "output_type": "execute_result"
    }
   ],
   "source": [
    "sorted(list(set(net.dat['node_info']['row']['cat-0'])))"
   ]
  },
  {
   "cell_type": "code",
   "execution_count": 5,
   "metadata": {
    "collapsed": false,
    "deletable": true,
    "editable": true
   },
   "outputs": [
    {
     "data": {
      "text/plain": [
       "'something'"
      ]
     },
     "execution_count": 5,
     "metadata": {},
     "output_type": "execute_result"
    }
   ],
   "source": [
    "net.viz['cat_colors']"
   ]
  },
  {
   "cell_type": "code",
   "execution_count": 7,
   "metadata": {
    "collapsed": false,
    "deletable": true,
    "editable": true
   },
   "outputs": [
    {
     "name": "stdout",
     "output_type": "stream",
     "text": [
      "data_formats\n",
      "dict_cat\n",
      "data_formats\n",
      "dict_cat\n",
      "data_formats\n",
      "dict_cat\n",
      "data_formats\n",
      "dict_cat\n",
      "data_formats\n",
      "dict_cat\n",
      "data_formats\n",
      "dict_cat\n",
      "data_formats\n",
      "dict_cat\n"
     ]
    }
   ],
   "source": [
    "net.make_clust()"
   ]
  },
  {
   "cell_type": "code",
   "execution_count": null,
   "metadata": {
    "collapsed": true,
    "deletable": true,
    "editable": true
   },
   "outputs": [],
   "source": []
  },
  {
   "cell_type": "code",
   "execution_count": null,
   "metadata": {
    "collapsed": true,
    "deletable": true,
    "editable": true
   },
   "outputs": [],
   "source": []
  },
  {
   "cell_type": "code",
   "execution_count": 3,
   "metadata": {
    "collapsed": true,
    "deletable": true,
    "editable": true
   },
   "outputs": [],
   "source": [
    "all_colors = [ \"#393b79\", \"#aec7e8\", \"#ff7f0e\", \"#ffbb78\", \"#98df8a\", \"#bcbd22\", \n",
    "    \"#404040\", \"#ff9896\", \"#c5b0d5\", \"#8c564b\", \"#1f77b4\", \"#5254a3\", \"#FFDB58\",\n",
    "    \"#c49c94\", \"#e377c2\", \"#7f7f7f\", \"#2ca02c\", \"#9467bd\", \"#dbdb8d\", \"#17becf\", \n",
    "    \"#637939\", \"#6b6ecf\", \"#9c9ede\", \"#d62728\", \"#8ca252\", \"#8c6d31\", \"#bd9e39\", \n",
    "    \"#e7cb94\", \"#843c39\", \"#ad494a\", \"#d6616b\", \"#7b4173\", \"#a55194\", \"#ce6dbd\", \n",
    "    \"#de9ed6\"]; "
   ]
  },
  {
   "cell_type": "code",
   "execution_count": 10,
   "metadata": {
    "collapsed": false,
    "deletable": true,
    "editable": true
   },
   "outputs": [],
   "source": [
    "cat_num = 36"
   ]
  },
  {
   "cell_type": "code",
   "execution_count": 11,
   "metadata": {
    "collapsed": false,
    "deletable": true,
    "editable": true
   },
   "outputs": [
    {
     "data": {
      "text/plain": [
       "'#aec7e8'"
      ]
     },
     "execution_count": 11,
     "metadata": {},
     "output_type": "execute_result"
    }
   ],
   "source": [
    "all_colors[cat_num % len(all_colors)]"
   ]
  },
  {
   "cell_type": "code",
   "execution_count": null,
   "metadata": {
    "collapsed": true,
    "deletable": true,
    "editable": true
   },
   "outputs": [],
   "source": []
  }
 ],
 "metadata": {
  "anaconda-cloud": {},
  "kernelspec": {
   "display_name": "Python [Root]",
   "language": "python",
   "name": "Python [Root]"
  },
  "language_info": {
   "codemirror_mode": {
    "name": "ipython",
    "version": 2
   },
   "file_extension": ".py",
   "mimetype": "text/x-python",
   "name": "python",
   "nbconvert_exporter": "python",
   "pygments_lexer": "ipython2",
   "version": "2.7.12"
  }
 },
 "nbformat": 4,
 "nbformat_minor": 2
}
