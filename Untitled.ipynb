{
 "cells": [
  {
   "cell_type": "code",
   "execution_count": 1,
   "metadata": {
    "collapsed": true
   },
   "outputs": [],
   "source": [
    "from clustergrammer import Network\n",
    "net = Network()"
   ]
  },
  {
   "cell_type": "code",
   "execution_count": 2,
   "metadata": {
    "collapsed": true
   },
   "outputs": [],
   "source": [
    "net.load_file('txt/rc_two_cats.txt')"
   ]
  },
  {
   "cell_type": "code",
   "execution_count": 3,
   "metadata": {
    "collapsed": false
   },
   "outputs": [
    {
     "data": {
      "text/plain": [
       "{'col': {'cat-0': {'Category: five': '#98df8a',\n",
       "   'Category: four': '#404040',\n",
       "   'Category: one': '#c5b0d5',\n",
       "   'Category: three': '#1f77b4',\n",
       "   'Category: two': '#FFDB58'},\n",
       "  'cat-1': {'Gender: Female': '#ff7f0e', 'Gender: Male': '#98df8a'}},\n",
       " 'row': {'cat-0': {'Gene Type: Interesting': '#393b79',\n",
       "   'Gene Type: Not Interesting': '#eee'}}}"
      ]
     },
     "execution_count": 3,
     "metadata": {},
     "output_type": "execute_result"
    }
   ],
   "source": [
    "net.viz['cat_colors']"
   ]
  },
  {
   "cell_type": "code",
   "execution_count": 5,
   "metadata": {
    "collapsed": false
   },
   "outputs": [],
   "source": [
    "net.set_cat_color('col', 1, 'Category: one', 'blue')"
   ]
  },
  {
   "cell_type": "code",
   "execution_count": 6,
   "metadata": {
    "collapsed": false
   },
   "outputs": [
    {
     "data": {
      "text/plain": [
       "{'col': {'cat-0': {'Category: five': '#98df8a',\n",
       "   'Category: four': '#404040',\n",
       "   'Category: one': 'blue',\n",
       "   'Category: three': '#1f77b4',\n",
       "   'Category: two': '#FFDB58'},\n",
       "  'cat-1': {'Gender: Female': '#ff7f0e', 'Gender: Male': '#98df8a'}},\n",
       " 'row': {'cat-0': {'Gene Type: Interesting': '#393b79',\n",
       "   'Gene Type: Not Interesting': '#eee'}}}"
      ]
     },
     "execution_count": 6,
     "metadata": {},
     "output_type": "execute_result"
    }
   ],
   "source": [
    "net.viz['cat_colors']"
   ]
  },
  {
   "cell_type": "code",
   "execution_count": null,
   "metadata": {
    "collapsed": true
   },
   "outputs": [],
   "source": []
  }
 ],
 "metadata": {
  "kernelspec": {
   "display_name": "Python [Root]",
   "language": "python",
   "name": "Python [Root]"
  },
  "language_info": {
   "codemirror_mode": {
    "name": "ipython",
    "version": 2
   },
   "file_extension": ".py",
   "mimetype": "text/x-python",
   "name": "python",
   "nbconvert_exporter": "python",
   "pygments_lexer": "ipython2",
   "version": "2.7.12"
  }
 },
 "nbformat": 4,
 "nbformat_minor": 2
}
