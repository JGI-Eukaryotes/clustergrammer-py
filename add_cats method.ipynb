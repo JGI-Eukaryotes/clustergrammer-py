{
 "cells": [
  {
   "cell_type": "code",
   "execution_count": 1,
   "metadata": {
    "collapsed": false
   },
   "outputs": [],
   "source": [
    "from clustergrammer import Network\n",
    "from clustergrammer_widget import clustergrammer_widget\n",
    "net = Network()"
   ]
  },
  {
   "cell_type": "code",
   "execution_count": 2,
   "metadata": {
    "collapsed": true
   },
   "outputs": [],
   "source": [
    "net.load_file('txt/rc_two_cats.txt')"
   ]
  },
  {
   "cell_type": "code",
   "execution_count": 3,
   "metadata": {
    "collapsed": false
   },
   "outputs": [
    {
     "name": "stdout",
     "output_type": "stream",
     "text": [
      "cat_data\n",
      "{'cats': {'true': ['ROS1', 'AAK1']}, 'title': 'new_cat'}\n",
      "\tfound AAK1 with cat: true\n",
      "\tfound ROS1 with cat: true\n"
     ]
    }
   ],
   "source": [
    "net.add_cats('row', [{'title':'new_cat', 'cats':{'addiction':['ROS1','AAK1'], 'age':['MAPK4','SRC']}}])\n",
    "# net.add_cats('row', [{'title':'new_cat', 'cats':{'true':['ROS1','AAK1']}}])"
   ]
  },
  {
   "cell_type": "code",
   "execution_count": 4,
   "metadata": {
    "collapsed": false
   },
   "outputs": [],
   "source": [
    "net.make_clust()"
   ]
  },
  {
   "cell_type": "code",
   "execution_count": 5,
   "metadata": {
    "collapsed": false
   },
   "outputs": [
    {
     "data": {
      "application/vnd.jupyter.widget-view+json": {
       "model_id": "b1ebfc00828d4b378ed1551408be0e62"
      }
     },
     "metadata": {},
     "output_type": "display_data"
    }
   ],
   "source": [
    "clustergrammer_widget(network=net.widget())"
   ]
  },
  {
   "cell_type": "code",
   "execution_count": null,
   "metadata": {
    "collapsed": true
   },
   "outputs": [],
   "source": []
  }
 ],
 "metadata": {
  "kernelspec": {
   "display_name": "Python [Root]",
   "language": "python",
   "name": "Python [Root]"
  },
  "language_info": {
   "codemirror_mode": {
    "name": "ipython",
    "version": 2
   },
   "file_extension": ".py",
   "mimetype": "text/x-python",
   "name": "python",
   "nbconvert_exporter": "python",
   "pygments_lexer": "ipython2",
   "version": "2.7.12"
  }
 },
 "nbformat": 4,
 "nbformat_minor": 2
}
