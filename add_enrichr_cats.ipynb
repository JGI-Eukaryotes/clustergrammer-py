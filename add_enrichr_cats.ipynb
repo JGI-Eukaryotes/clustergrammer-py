{
 "cells": [
  {
   "cell_type": "code",
   "execution_count": 1,
   "metadata": {
    "collapsed": true
   },
   "outputs": [],
   "source": [
    "# import clustergrammer_widget\n",
    "from clustergrammer_widget import *\n",
    "\n",
    "# use local clustergrammer\n",
    "from clustergrammer import Network"
   ]
  },
  {
   "cell_type": "code",
   "execution_count": 2,
   "metadata": {
    "collapsed": true
   },
   "outputs": [],
   "source": [
    "net = Network(clustergrammer_widget)"
   ]
  },
  {
   "cell_type": "code",
   "execution_count": 3,
   "metadata": {},
   "outputs": [
    {
     "name": "stdout",
     "output_type": "stream",
     "text": [
      "run_enirchr in make_clust_fun: ChEA_2015\n",
      "add enrichr categories to genes\n",
      "lib: ChEA_2015\n",
      "\tEnrichr enrichment get req userListId: 3133499\n"
     ]
    },
    {
     "data": {
      "application/vnd.jupyter.widget-view+json": {
       "model_id": "a25e43fbe67348b9a05e23d6989737af"
      }
     },
     "metadata": {},
     "output_type": "display_data"
    }
   ],
   "source": [
    "net.load_file('txt/rc_two_cats.txt')\n",
    "net.cluster(run_enrichr='ChEA_2015')\n",
    "net.widget()"
   ]
  },
  {
   "cell_type": "code",
   "execution_count": 4,
   "metadata": {},
   "outputs": [
    {
     "name": "stdout",
     "output_type": "stream",
     "text": [
      "run_enirchr in make_clust_fun: KEA_2015\n",
      "add enrichr categories to genes\n",
      "lib: KEA_2015\n",
      "\tEnrichr enrichment get req userListId: 3133498\n",
      "\n",
      "df_to_dat\n",
      "====================\n",
      "---------------------------------\n",
      "dict_cat\n",
      "True\n",
      "---------------------------------\n",
      "\n",
      "df_to_dat\n",
      "====================\n",
      "---------------------------------\n",
      "dict_cat\n",
      "False\n",
      "---------------------------------\n",
      "\n",
      "df_to_dat\n",
      "====================\n",
      "---------------------------------\n",
      "dict_cat\n",
      "False\n",
      "---------------------------------\n",
      "\n",
      "df_to_dat\n",
      "====================\n",
      "---------------------------------\n",
      "dict_cat\n",
      "False\n",
      "---------------------------------\n",
      "\n",
      "df_to_dat\n",
      "====================\n",
      "---------------------------------\n",
      "dict_cat\n",
      "False\n",
      "---------------------------------\n",
      "\n",
      "df_to_dat\n",
      "====================\n",
      "---------------------------------\n",
      "dict_cat\n",
      "False\n",
      "---------------------------------\n",
      "\n",
      "df_to_dat\n",
      "====================\n",
      "---------------------------------\n",
      "dict_cat\n",
      "False\n",
      "---------------------------------\n"
     ]
    },
    {
     "data": {
      "application/vnd.jupyter.widget-view+json": {
       "model_id": "75ddd7aa0e414864a90d2891121fab74"
      }
     },
     "metadata": {},
     "output_type": "display_data"
    }
   ],
   "source": [
    "net.cluster(run_enrichr='KEA_2015')\n",
    "net.widget()"
   ]
  },
  {
   "cell_type": "code",
   "execution_count": 4,
   "metadata": {},
   "outputs": [
    {
     "data": {
      "text/plain": [
       "{'col': {'cat-0': {'Category: five': '#98df8a',\n",
       "   'Category: four': '#404040',\n",
       "   'Category: one': '#c5b0d5',\n",
       "   'Category: three': '#1f77b4',\n",
       "   'Category: two': '#FFDB58'},\n",
       "  'cat-1': {'Gender: Female': '#ff7f0e', 'Gender: Male': '#98df8a'}},\n",
       " 'row': {'cat-0': {'Gene Type: Interesting': '#393b79',\n",
       "   'Gene Type: Not Interesting': '#eee',\n",
       "   u'SUZ12_18692474_ChIP-Seq_MESC_Mouse: Not SUZ12_18692474_ChIP-Seq_MESC_Mouse': '#eee',\n",
       "   u'SUZ12_18692474_ChIP-Seq_MESC_Mouse: SUZ12_18692474_ChIP-Seq_MESC_Mouse': '#dbdb8d'},\n",
       "  'cat-1': {u'NUCKS1_24931609_ChIP-Seq_HEPATOCYTES_Mouse: NUCKS1_24931609_ChIP-Seq_HEPATOCYTES_Mouse': '#dbdb8d',\n",
       "   u'NUCKS1_24931609_ChIP-Seq_HEPATOCYTES_Mouse: Not NUCKS1_24931609_ChIP-Seq_HEPATOCYTES_Mouse': '#eee'},\n",
       "  'cat-2': {u'EZH2_18974828_ChIP-Seq_MESC_Mouse: EZH2_18974828_ChIP-Seq_MESC_Mouse': '#FFDB58',\n",
       "   u'EZH2_18974828_ChIP-Seq_MESC_Mouse: Not EZH2_18974828_ChIP-Seq_MESC_Mouse': '#eee'},\n",
       "  'cat-3': {u'RNF2_18974828_ChIP-Seq_MESC_Mouse: Not RNF2_18974828_ChIP-Seq_MESC_Mouse': '#eee',\n",
       "   u'RNF2_18974828_ChIP-Seq_MESC_Mouse: RNF2_18974828_ChIP-Seq_MESC_Mouse': '#2ca02c'},\n",
       "  'cat-4': {u'ESR1_22446102_ChIP-Seq_UTERI_Mouse: ESR1_22446102_ChIP-Seq_UTERI_Mouse': '#c5b0d5',\n",
       "   u'ESR1_22446102_ChIP-Seq_UTERI_Mouse: Not ESR1_22446102_ChIP-Seq_UTERI_Mouse': '#eee'},\n",
       "  'cat-5': {u'JARID2_20075857_ChIP-Seq_MESC_Mouse: JARID2_20075857_ChIP-Seq_MESC_Mouse': '#1f77b4',\n",
       "   u'JARID2_20075857_ChIP-Seq_MESC_Mouse: Not JARID2_20075857_ChIP-Seq_MESC_Mouse': '#eee'},\n",
       "  'cat-6': {u'JARID2_20064375_ChIP-Seq_MESC_Mouse: JARID2_20064375_ChIP-Seq_MESC_Mouse': '#98df8a',\n",
       "   u'JARID2_20064375_ChIP-Seq_MESC_Mouse: Not JARID2_20064375_ChIP-Seq_MESC_Mouse': '#eee'},\n",
       "  'cat-7': {u'EP300_21415370_ChIP-Seq_HL-1_Mouse: EP300_21415370_ChIP-Seq_HL-1_Mouse': '#404040',\n",
       "   u'EP300_21415370_ChIP-Seq_HL-1_Mouse: Not EP300_21415370_ChIP-Seq_HL-1_Mouse': '#eee'},\n",
       "  'cat-8': {u'MTF2_20144788_ChIP-Seq_MESC_Mouse: MTF2_20144788_ChIP-Seq_MESC_Mouse': '#393b79',\n",
       "   u'MTF2_20144788_ChIP-Seq_MESC_Mouse: Not MTF2_20144788_ChIP-Seq_MESC_Mouse': '#eee'},\n",
       "  'cat-9': {u'SUZ12_18974828_ChIP-Seq_MESC_Mouse: Not SUZ12_18974828_ChIP-Seq_MESC_Mouse': '#eee',\n",
       "   u'SUZ12_18974828_ChIP-Seq_MESC_Mouse: SUZ12_18974828_ChIP-Seq_MESC_Mouse': '#98df8a'}}}"
      ]
     },
     "execution_count": 4,
     "metadata": {},
     "output_type": "execute_result"
    }
   ],
   "source": [
    "net.viz['cat_colors']"
   ]
  },
  {
   "cell_type": "code",
   "execution_count": 5,
   "metadata": {},
   "outputs": [
    {
     "data": {
      "application/vnd.jupyter.widget-view+json": {
       "model_id": "5010c9a6328c4569a7ba96f859bcec00"
      }
     },
     "metadata": {},
     "output_type": "display_data"
    }
   ],
   "source": [
    "net.widget()"
   ]
  },
  {
   "cell_type": "code",
   "execution_count": 5,
   "metadata": {
    "collapsed": true
   },
   "outputs": [],
   "source": [
    "df = net.export_df()"
   ]
  },
  {
   "cell_type": "code",
   "execution_count": 6,
   "metadata": {
    "collapsed": true
   },
   "outputs": [],
   "source": [
    "rows = df.index.tolist()"
   ]
  },
  {
   "cell_type": "code",
   "execution_count": 7,
   "metadata": {
    "collapsed": true
   },
   "outputs": [],
   "source": [
    "df.to_csv('tmp.txt', sep='\\t')"
   ]
  },
  {
   "cell_type": "code",
   "execution_count": 6,
   "metadata": {},
   "outputs": [
    {
     "name": "stdout",
     "output_type": "stream",
     "text": [
      "---------------------------------\n",
      "dict_cat\n",
      "True\n",
      "---------------------------------\n",
      "---------------------------------\n",
      "dict_cat\n",
      "False\n",
      "---------------------------------\n",
      "---------------------------------\n",
      "dict_cat\n",
      "False\n",
      "---------------------------------\n",
      "---------------------------------\n",
      "dict_cat\n",
      "False\n",
      "---------------------------------\n",
      "---------------------------------\n",
      "dict_cat\n",
      "False\n",
      "---------------------------------\n",
      "---------------------------------\n",
      "dict_cat\n",
      "False\n",
      "---------------------------------\n",
      "---------------------------------\n",
      "dict_cat\n",
      "False\n",
      "---------------------------------\n",
      "---------------------------------\n",
      "dict_cat\n",
      "False\n",
      "---------------------------------\n"
     ]
    }
   ],
   "source": [
    "net.load_df(df)\n",
    "net.cluster()\n",
    "# net.widget()"
   ]
  },
  {
   "cell_type": "code",
   "execution_count": 10,
   "metadata": {},
   "outputs": [
    {
     "data": {
      "text/plain": [
       "['mat', 'links', 'views', 'cat_colors', 'row_nodes', 'col_nodes']"
      ]
     },
     "execution_count": 10,
     "metadata": {},
     "output_type": "execute_result"
    }
   ],
   "source": [
    "net.viz.keys()"
   ]
  },
  {
   "cell_type": "code",
   "execution_count": 7,
   "metadata": {},
   "outputs": [
    {
     "data": {
      "text/plain": [
       "{'col': {'cat-0': {'Category: five': '#98df8a',\n",
       "   'Category: four': '#404040',\n",
       "   'Category: one': '#c5b0d5',\n",
       "   'Category: three': '#1f77b4',\n",
       "   'Category: two': '#FFDB58'},\n",
       "  'cat-1': {'Gender: Female': '#ff7f0e', 'Gender: Male': '#98df8a'}},\n",
       " 'row': {'cat-0': {'Gene Type: Interesting': '#393b79',\n",
       "   'Gene Type: Not Interesting': '#eee',\n",
       "   u'SUZ12_18692474_ChIP-Seq_MESC_Mouse: Not SUZ12_18692474_ChIP-Seq_MESC_Mouse': '#eee',\n",
       "   u'SUZ12_18692474_ChIP-Seq_MESC_Mouse: SUZ12_18692474_ChIP-Seq_MESC_Mouse': '#dbdb8d'},\n",
       "  'cat-1': {u'NUCKS1_24931609_ChIP-Seq_HEPATOCYTES_Mouse: NUCKS1_24931609_ChIP-Seq_HEPATOCYTES_Mouse': '#dbdb8d',\n",
       "   u'NUCKS1_24931609_ChIP-Seq_HEPATOCYTES_Mouse: Not NUCKS1_24931609_ChIP-Seq_HEPATOCYTES_Mouse': '#eee'},\n",
       "  'cat-2': {u'EZH2_18974828_ChIP-Seq_MESC_Mouse: EZH2_18974828_ChIP-Seq_MESC_Mouse': '#FFDB58',\n",
       "   u'EZH2_18974828_ChIP-Seq_MESC_Mouse: Not EZH2_18974828_ChIP-Seq_MESC_Mouse': '#eee'},\n",
       "  'cat-3': {u'RNF2_18974828_ChIP-Seq_MESC_Mouse: Not RNF2_18974828_ChIP-Seq_MESC_Mouse': '#eee',\n",
       "   u'RNF2_18974828_ChIP-Seq_MESC_Mouse: RNF2_18974828_ChIP-Seq_MESC_Mouse': '#2ca02c'},\n",
       "  'cat-4': {u'ESR1_22446102_ChIP-Seq_UTERI_Mouse: ESR1_22446102_ChIP-Seq_UTERI_Mouse': '#c5b0d5',\n",
       "   u'ESR1_22446102_ChIP-Seq_UTERI_Mouse: Not ESR1_22446102_ChIP-Seq_UTERI_Mouse': '#eee'},\n",
       "  'cat-5': {u'JARID2_20075857_ChIP-Seq_MESC_Mouse: JARID2_20075857_ChIP-Seq_MESC_Mouse': '#1f77b4',\n",
       "   u'JARID2_20075857_ChIP-Seq_MESC_Mouse: Not JARID2_20075857_ChIP-Seq_MESC_Mouse': '#eee'},\n",
       "  'cat-6': {u'JARID2_20064375_ChIP-Seq_MESC_Mouse: JARID2_20064375_ChIP-Seq_MESC_Mouse': '#98df8a',\n",
       "   u'JARID2_20064375_ChIP-Seq_MESC_Mouse: Not JARID2_20064375_ChIP-Seq_MESC_Mouse': '#eee'},\n",
       "  'cat-7': {u'EP300_21415370_ChIP-Seq_HL-1_Mouse: EP300_21415370_ChIP-Seq_HL-1_Mouse': '#404040',\n",
       "   u'EP300_21415370_ChIP-Seq_HL-1_Mouse: Not EP300_21415370_ChIP-Seq_HL-1_Mouse': '#eee'},\n",
       "  'cat-8': {u'MTF2_20144788_ChIP-Seq_MESC_Mouse: MTF2_20144788_ChIP-Seq_MESC_Mouse': '#393b79',\n",
       "   u'MTF2_20144788_ChIP-Seq_MESC_Mouse: Not MTF2_20144788_ChIP-Seq_MESC_Mouse': '#eee'},\n",
       "  'cat-9': {u'SUZ12_18974828_ChIP-Seq_MESC_Mouse: Not SUZ12_18974828_ChIP-Seq_MESC_Mouse': '#eee',\n",
       "   u'SUZ12_18974828_ChIP-Seq_MESC_Mouse: SUZ12_18974828_ChIP-Seq_MESC_Mouse': '#98df8a'}}}"
      ]
     },
     "execution_count": 7,
     "metadata": {},
     "output_type": "execute_result"
    }
   ],
   "source": [
    "net.viz['cat_colors']"
   ]
  },
  {
   "cell_type": "code",
   "execution_count": null,
   "metadata": {
    "collapsed": true
   },
   "outputs": [],
   "source": []
  }
 ],
 "metadata": {
  "anaconda-cloud": {},
  "kernelspec": {
   "display_name": "Python [Root]",
   "language": "python",
   "name": "Python [Root]"
  },
  "language_info": {
   "codemirror_mode": {
    "name": "ipython",
    "version": 2
   },
   "file_extension": ".py",
   "mimetype": "text/x-python",
   "name": "python",
   "nbconvert_exporter": "python",
   "pygments_lexer": "ipython2",
   "version": "2.7.12"
  }
 },
 "nbformat": 4,
 "nbformat_minor": 2
}
